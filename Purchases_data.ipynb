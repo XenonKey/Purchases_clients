{
 "cells": [
  {
   "cell_type": "code",
   "execution_count": 1,
   "id": "18d5f523",
   "metadata": {},
   "outputs": [],
   "source": [
    "import pandas as pd\n",
    "import os\n",
    "import seaborn as sns\n",
    "import matplotlib.pyplot as plt"
   ]
  },
  {
   "cell_type": "code",
   "execution_count": 2,
   "id": "93033309",
   "metadata": {},
   "outputs": [
    {
     "data": {
      "text/plain": [
       "'/Users/giorgi/Documents/Jupiter Notebook/Lesson_4/Project'"
      ]
     },
     "execution_count": 2,
     "metadata": {},
     "output_type": "execute_result"
    }
   ],
   "source": [
    "# Метод, который позволит нам узнать, где мы нахожимся в директории\n",
    "os.getcwd()"
   ]
  },
  {
   "cell_type": "code",
   "execution_count": 3,
   "id": "c674e03a",
   "metadata": {},
   "outputs": [],
   "source": [
    "# Создадим вложенный цикл, чтобы считать все файлы и добавить в созданный даатфрейм\n",
    "df = pd.DataFrame(columns=['product_id', 'quantity', 'name', 'date'])\n",
    "for path, dirs, files in os.walk(\"data\", topdown=False):\n",
    "    for name in files:\n",
    "        path_to_file = os.path.join(path, name)\n",
    "        df1 = pd.read_csv(path_to_file)\n",
    "        df1['name'] = path_to_file.split('/')[2]\n",
    "        df1['date'] = path_to_file.split('/')[1]\n",
    "        df = pd.concat([df, df1])"
   ]
  },
  {
   "cell_type": "code",
   "execution_count": 4,
   "id": "148260b6",
   "metadata": {
    "scrolled": true
   },
   "outputs": [
    {
     "data": {
      "text/plain": [
       "480"
      ]
     },
     "execution_count": 4,
     "metadata": {},
     "output_type": "execute_result"
    }
   ],
   "source": [
    "# Количество приобретенного продукта за все время\n",
    "df.quantity.sum()"
   ]
  },
  {
   "cell_type": "code",
   "execution_count": 5,
   "id": "6ba8c0c0",
   "metadata": {},
   "outputs": [
    {
     "data": {
      "text/html": [
       "<div>\n",
       "<style scoped>\n",
       "    .dataframe tbody tr th:only-of-type {\n",
       "        vertical-align: middle;\n",
       "    }\n",
       "\n",
       "    .dataframe tbody tr th {\n",
       "        vertical-align: top;\n",
       "    }\n",
       "\n",
       "    .dataframe thead th {\n",
       "        text-align: right;\n",
       "    }\n",
       "</style>\n",
       "<table border=\"1\" class=\"dataframe\">\n",
       "  <thead>\n",
       "    <tr style=\"text-align: right;\">\n",
       "      <th></th>\n",
       "      <th>quantity</th>\n",
       "    </tr>\n",
       "    <tr>\n",
       "      <th>name</th>\n",
       "      <th></th>\n",
       "    </tr>\n",
       "  </thead>\n",
       "  <tbody>\n",
       "    <tr>\n",
       "      <th>Alexey_Smirnov</th>\n",
       "      <td>52</td>\n",
       "    </tr>\n",
       "    <tr>\n",
       "      <th>Petr_Smirnov</th>\n",
       "      <td>52</td>\n",
       "    </tr>\n",
       "    <tr>\n",
       "      <th>Anton_Smirnov</th>\n",
       "      <td>45</td>\n",
       "    </tr>\n",
       "    <tr>\n",
       "      <th>Petr_Fedorov</th>\n",
       "      <td>34</td>\n",
       "    </tr>\n",
       "    <tr>\n",
       "      <th>Kirill_Fedorov</th>\n",
       "      <td>28</td>\n",
       "    </tr>\n",
       "    <tr>\n",
       "      <th>Rostislav_Petrov</th>\n",
       "      <td>28</td>\n",
       "    </tr>\n",
       "    <tr>\n",
       "      <th>Vasiliy_Ivanov</th>\n",
       "      <td>27</td>\n",
       "    </tr>\n",
       "    <tr>\n",
       "      <th>Alexey_Fedorov</th>\n",
       "      <td>24</td>\n",
       "    </tr>\n",
       "    <tr>\n",
       "      <th>Anton_Ivanov</th>\n",
       "      <td>23</td>\n",
       "    </tr>\n",
       "    <tr>\n",
       "      <th>Petr_Ivanov</th>\n",
       "      <td>21</td>\n",
       "    </tr>\n",
       "    <tr>\n",
       "      <th>Anton_Petrov</th>\n",
       "      <td>18</td>\n",
       "    </tr>\n",
       "    <tr>\n",
       "      <th>Kirill_Smirnov</th>\n",
       "      <td>17</td>\n",
       "    </tr>\n",
       "    <tr>\n",
       "      <th>Alexey_Ivanov</th>\n",
       "      <td>17</td>\n",
       "    </tr>\n",
       "    <tr>\n",
       "      <th>Rostislav_Smirnov</th>\n",
       "      <td>17</td>\n",
       "    </tr>\n",
       "    <tr>\n",
       "      <th>Rostislav_Fedorov</th>\n",
       "      <td>16</td>\n",
       "    </tr>\n",
       "    <tr>\n",
       "      <th>Vasiliy_Fedorov</th>\n",
       "      <td>15</td>\n",
       "    </tr>\n",
       "    <tr>\n",
       "      <th>Petr_Petrov</th>\n",
       "      <td>14</td>\n",
       "    </tr>\n",
       "    <tr>\n",
       "      <th>Kirill_Petrov</th>\n",
       "      <td>9</td>\n",
       "    </tr>\n",
       "    <tr>\n",
       "      <th>Rostislav_Ivanov</th>\n",
       "      <td>9</td>\n",
       "    </tr>\n",
       "    <tr>\n",
       "      <th>Alexey_Petrov</th>\n",
       "      <td>7</td>\n",
       "    </tr>\n",
       "    <tr>\n",
       "      <th>Vasiliy_Petrov</th>\n",
       "      <td>7</td>\n",
       "    </tr>\n",
       "  </tbody>\n",
       "</table>\n",
       "</div>"
      ],
      "text/plain": [
       "                  quantity\n",
       "name                      \n",
       "Alexey_Smirnov          52\n",
       "Petr_Smirnov            52\n",
       "Anton_Smirnov           45\n",
       "Petr_Fedorov            34\n",
       "Kirill_Fedorov          28\n",
       "Rostislav_Petrov        28\n",
       "Vasiliy_Ivanov          27\n",
       "Alexey_Fedorov          24\n",
       "Anton_Ivanov            23\n",
       "Petr_Ivanov             21\n",
       "Anton_Petrov            18\n",
       "Kirill_Smirnov          17\n",
       "Alexey_Ivanov           17\n",
       "Rostislav_Smirnov       17\n",
       "Rostislav_Fedorov       16\n",
       "Vasiliy_Fedorov         15\n",
       "Petr_Petrov             14\n",
       "Kirill_Petrov            9\n",
       "Rostislav_Ivanov         9\n",
       "Alexey_Petrov            7\n",
       "Vasiliy_Petrov           7"
      ]
     },
     "execution_count": 5,
     "metadata": {},
     "output_type": "execute_result"
    }
   ],
   "source": [
    "# Узнаем какой пользователь совершил больше всего покупок\n",
    "df \\\n",
    "    .groupby('name') \\\n",
    "    .agg({'quantity': 'sum'}) \\\n",
    "    .sort_values('quantity', ascending=False)"
   ]
  },
  {
   "cell_type": "code",
   "execution_count": 6,
   "id": "335eac6d",
   "metadata": {},
   "outputs": [
    {
     "data": {
      "text/html": [
       "<div>\n",
       "<style scoped>\n",
       "    .dataframe tbody tr th:only-of-type {\n",
       "        vertical-align: middle;\n",
       "    }\n",
       "\n",
       "    .dataframe tbody tr th {\n",
       "        vertical-align: top;\n",
       "    }\n",
       "\n",
       "    .dataframe thead th {\n",
       "        text-align: right;\n",
       "    }\n",
       "</style>\n",
       "<table border=\"1\" class=\"dataframe\">\n",
       "  <thead>\n",
       "    <tr style=\"text-align: right;\">\n",
       "      <th></th>\n",
       "      <th>product_id</th>\n",
       "      <th>quantity</th>\n",
       "    </tr>\n",
       "  </thead>\n",
       "  <tbody>\n",
       "    <tr>\n",
       "      <th>0</th>\n",
       "      <td>27</td>\n",
       "      <td>20</td>\n",
       "    </tr>\n",
       "    <tr>\n",
       "      <th>1</th>\n",
       "      <td>56</td>\n",
       "      <td>18</td>\n",
       "    </tr>\n",
       "    <tr>\n",
       "      <th>2</th>\n",
       "      <td>24</td>\n",
       "      <td>15</td>\n",
       "    </tr>\n",
       "    <tr>\n",
       "      <th>3</th>\n",
       "      <td>74</td>\n",
       "      <td>15</td>\n",
       "    </tr>\n",
       "    <tr>\n",
       "      <th>4</th>\n",
       "      <td>41</td>\n",
       "      <td>14</td>\n",
       "    </tr>\n",
       "    <tr>\n",
       "      <th>5</th>\n",
       "      <td>34</td>\n",
       "      <td>13</td>\n",
       "    </tr>\n",
       "    <tr>\n",
       "      <th>6</th>\n",
       "      <td>94</td>\n",
       "      <td>13</td>\n",
       "    </tr>\n",
       "    <tr>\n",
       "      <th>7</th>\n",
       "      <td>66</td>\n",
       "      <td>13</td>\n",
       "    </tr>\n",
       "    <tr>\n",
       "      <th>8</th>\n",
       "      <td>92</td>\n",
       "      <td>12</td>\n",
       "    </tr>\n",
       "    <tr>\n",
       "      <th>9</th>\n",
       "      <td>50</td>\n",
       "      <td>12</td>\n",
       "    </tr>\n",
       "  </tbody>\n",
       "</table>\n",
       "</div>"
      ],
      "text/plain": [
       "   product_id quantity\n",
       "0          27       20\n",
       "1          56       18\n",
       "2          24       15\n",
       "3          74       15\n",
       "4          41       14\n",
       "5          34       13\n",
       "6          94       13\n",
       "7          66       13\n",
       "8          92       12\n",
       "9          50       12"
      ]
     },
     "execution_count": 6,
     "metadata": {},
     "output_type": "execute_result"
    }
   ],
   "source": [
    "# Найдем топ-10 товаров по числу проданных единиц за всё время\n",
    "top10_products = df \\\n",
    "    .groupby('product_id') \\\n",
    "    .agg({'quantity': 'sum'}) \\\n",
    "    .sort_values('quantity', ascending=False) \\\n",
    "    .head(10) \\\n",
    "    .reset_index()\n",
    "top10_products"
   ]
  },
  {
   "cell_type": "code",
   "execution_count": 7,
   "id": "636768fa",
   "metadata": {},
   "outputs": [
    {
     "data": {
      "text/plain": [
       "<AxesSubplot:xlabel='product_id', ylabel='quantity'>"
      ]
     },
     "execution_count": 7,
     "metadata": {},
     "output_type": "execute_result"
    },
    {
     "data": {
      "image/png": "[encoded data removed]",
      "text/plain": [
       "<Figure size 640x480 with 1 Axes>"
      ]
     },
     "metadata": {},
     "output_type": "display_data"
    }
   ],
   "source": [
    "# Построим барплот (sns.barplot) по датафрейму (top10_products)\n",
    "sns.barplot(data = top10_products, x = 'product_id', y = 'quantity', alpha=0.8, order= top10_products.product_id)"
   ]
  },
  {
   "cell_type": "code",
   "execution_count": 8,
   "id": "80010e07",
   "metadata": {},
   "outputs": [
    {
     "data": {
      "text/html": [
       "<div>\n",
       "<style scoped>\n",
       "    .dataframe tbody tr th:only-of-type {\n",
       "        vertical-align: middle;\n",
       "    }\n",
       "\n",
       "    .dataframe tbody tr th {\n",
       "        vertical-align: top;\n",
       "    }\n",
       "\n",
       "    .dataframe thead th {\n",
       "        text-align: right;\n",
       "    }\n",
       "</style>\n",
       "<table border=\"1\" class=\"dataframe\">\n",
       "  <thead>\n",
       "    <tr style=\"text-align: right;\">\n",
       "      <th></th>\n",
       "      <th>date</th>\n",
       "      <th>quantity</th>\n",
       "    </tr>\n",
       "  </thead>\n",
       "  <tbody>\n",
       "    <tr>\n",
       "      <th>0</th>\n",
       "      <td>2020-12-03</td>\n",
       "      <td>60</td>\n",
       "    </tr>\n",
       "    <tr>\n",
       "      <th>1</th>\n",
       "      <td>2020-12-04</td>\n",
       "      <td>113</td>\n",
       "    </tr>\n",
       "    <tr>\n",
       "      <th>2</th>\n",
       "      <td>2020-12-05</td>\n",
       "      <td>61</td>\n",
       "    </tr>\n",
       "    <tr>\n",
       "      <th>3</th>\n",
       "      <td>2020-12-06</td>\n",
       "      <td>15</td>\n",
       "    </tr>\n",
       "    <tr>\n",
       "      <th>4</th>\n",
       "      <td>2020-12-07</td>\n",
       "      <td>94</td>\n",
       "    </tr>\n",
       "    <tr>\n",
       "      <th>5</th>\n",
       "      <td>2020-12-08</td>\n",
       "      <td>68</td>\n",
       "    </tr>\n",
       "    <tr>\n",
       "      <th>6</th>\n",
       "      <td>2020-12-09</td>\n",
       "      <td>69</td>\n",
       "    </tr>\n",
       "  </tbody>\n",
       "</table>\n",
       "</div>"
      ],
      "text/plain": [
       "         date quantity\n",
       "0  2020-12-03       60\n",
       "1  2020-12-04      113\n",
       "2  2020-12-05       61\n",
       "3  2020-12-06       15\n",
       "4  2020-12-07       94\n",
       "5  2020-12-08       68\n",
       "6  2020-12-09       69"
      ]
     },
     "execution_count": 8,
     "metadata": {},
     "output_type": "execute_result"
    }
   ],
   "source": [
    "# Создадим датафрейм продаж по дням\n",
    "sales_by_day = df \\\n",
    "    .groupby('date') \\\n",
    "    .agg({'quantity': 'sum'}) \\\n",
    "    .reset_index() \\\n",
    "    .sort_values('date')\n",
    "sales_by_day"
   ]
  },
  {
   "cell_type": "code",
   "execution_count": 9,
   "id": "72f5c5e3",
   "metadata": {},
   "outputs": [
    {
     "data": {
      "text/plain": [
       "<AxesSubplot:xlabel='date', ylabel='quantity'>"
      ]
     },
     "execution_count": 9,
     "metadata": {},
     "output_type": "execute_result"
    },
    {
     "data": {
      "image/png": "[encoded data removed]",
      "text/plain": [
       "<Figure size 900x500 with 1 Axes>"
      ]
     },
     "metadata": {},
     "output_type": "display_data"
    }
   ],
   "source": [
    "# Построим барплот (sns.barplot) по датафрейму (sales_by_day)\n",
    "plt.figure(figsize=(9, 5))\n",
    "sns.barplot(x = sales_by_day.date, y = sales_by_day.quantity, alpha = 0.8)"
   ]
  },
  {
   "cell_type": "code",
   "execution_count": 10,
   "id": "9988f45f",
   "metadata": {},
   "outputs": [
    {
     "data": {
      "text/html": [
       "<div>\n",
       "<style scoped>\n",
       "    .dataframe tbody tr th:only-of-type {\n",
       "        vertical-align: middle;\n",
       "    }\n",
       "\n",
       "    .dataframe tbody tr th {\n",
       "        vertical-align: top;\n",
       "    }\n",
       "\n",
       "    .dataframe thead th {\n",
       "        text-align: right;\n",
       "    }\n",
       "</style>\n",
       "<table border=\"1\" class=\"dataframe\">\n",
       "  <thead>\n",
       "    <tr style=\"text-align: right;\">\n",
       "      <th></th>\n",
       "      <th>product_id</th>\n",
       "      <th>quantity</th>\n",
       "      <th>name</th>\n",
       "      <th>date</th>\n",
       "      <th>Unnamed: 0</th>\n",
       "    </tr>\n",
       "  </thead>\n",
       "  <tbody>\n",
       "    <tr>\n",
       "      <th>0</th>\n",
       "      <td>56</td>\n",
       "      <td>4</td>\n",
       "      <td>Vasiliy_Fedorov</td>\n",
       "      <td>2020-12-06</td>\n",
       "      <td>0.0</td>\n",
       "    </tr>\n",
       "    <tr>\n",
       "      <th>1</th>\n",
       "      <td>97</td>\n",
       "      <td>3</td>\n",
       "      <td>Vasiliy_Fedorov</td>\n",
       "      <td>2020-12-06</td>\n",
       "      <td>1.0</td>\n",
       "    </tr>\n",
       "    <tr>\n",
       "      <th>2</th>\n",
       "      <td>79</td>\n",
       "      <td>3</td>\n",
       "      <td>Vasiliy_Fedorov</td>\n",
       "      <td>2020-12-06</td>\n",
       "      <td>2.0</td>\n",
       "    </tr>\n",
       "    <tr>\n",
       "      <th>3</th>\n",
       "      <td>29</td>\n",
       "      <td>5</td>\n",
       "      <td>Vasiliy_Fedorov</td>\n",
       "      <td>2020-12-06</td>\n",
       "      <td>3.0</td>\n",
       "    </tr>\n",
       "    <tr>\n",
       "      <th>0</th>\n",
       "      <td>73</td>\n",
       "      <td>5</td>\n",
       "      <td>Alexey_Fedorov</td>\n",
       "      <td>2020-12-08</td>\n",
       "      <td>0.0</td>\n",
       "    </tr>\n",
       "    <tr>\n",
       "      <th>...</th>\n",
       "      <td>...</td>\n",
       "      <td>...</td>\n",
       "      <td>...</td>\n",
       "      <td>...</td>\n",
       "      <td>...</td>\n",
       "    </tr>\n",
       "    <tr>\n",
       "      <th>1</th>\n",
       "      <td>3</td>\n",
       "      <td>4</td>\n",
       "      <td>Kirill_Fedorov</td>\n",
       "      <td>2020-12-04</td>\n",
       "      <td>1.0</td>\n",
       "    </tr>\n",
       "    <tr>\n",
       "      <th>2</th>\n",
       "      <td>89</td>\n",
       "      <td>5</td>\n",
       "      <td>Kirill_Fedorov</td>\n",
       "      <td>2020-12-04</td>\n",
       "      <td>2.0</td>\n",
       "    </tr>\n",
       "    <tr>\n",
       "      <th>3</th>\n",
       "      <td>75</td>\n",
       "      <td>2</td>\n",
       "      <td>Kirill_Fedorov</td>\n",
       "      <td>2020-12-04</td>\n",
       "      <td>3.0</td>\n",
       "    </tr>\n",
       "    <tr>\n",
       "      <th>4</th>\n",
       "      <td>41</td>\n",
       "      <td>5</td>\n",
       "      <td>Kirill_Fedorov</td>\n",
       "      <td>2020-12-04</td>\n",
       "      <td>4.0</td>\n",
       "    </tr>\n",
       "    <tr>\n",
       "      <th>5</th>\n",
       "      <td>32</td>\n",
       "      <td>4</td>\n",
       "      <td>Kirill_Fedorov</td>\n",
       "      <td>2020-12-04</td>\n",
       "      <td>5.0</td>\n",
       "    </tr>\n",
       "  </tbody>\n",
       "</table>\n",
       "<p>160 rows × 5 columns</p>\n",
       "</div>"
      ],
      "text/plain": [
       "   product_id quantity             name        date  Unnamed: 0\n",
       "0          56        4  Vasiliy_Fedorov  2020-12-06         0.0\n",
       "1          97        3  Vasiliy_Fedorov  2020-12-06         1.0\n",
       "2          79        3  Vasiliy_Fedorov  2020-12-06         2.0\n",
       "3          29        5  Vasiliy_Fedorov  2020-12-06         3.0\n",
       "0          73        5   Alexey_Fedorov  2020-12-08         0.0\n",
       "..        ...      ...              ...         ...         ...\n",
       "1           3        4   Kirill_Fedorov  2020-12-04         1.0\n",
       "2          89        5   Kirill_Fedorov  2020-12-04         2.0\n",
       "3          75        2   Kirill_Fedorov  2020-12-04         3.0\n",
       "4          41        5   Kirill_Fedorov  2020-12-04         4.0\n",
       "5          32        4   Kirill_Fedorov  2020-12-04         5.0\n",
       "\n",
       "[160 rows x 5 columns]"
      ]
     },
     "execution_count": 10,
     "metadata": {},
     "output_type": "execute_result"
    }
   ],
   "source": [
    "# Удалим дубликаты по колонкам 'name', 'product_id', 'date'\n",
    "df_without_duplicates = df.drop_duplicates(subset=['name', 'product_id', 'date'])\n",
    "df_without_duplicates"
   ]
  },
  {
   "cell_type": "code",
   "execution_count": 11,
   "id": "b5be8a4f",
   "metadata": {
    "scrolled": true
   },
   "outputs": [
    {
     "data": {
      "text/html": [
       "<div>\n",
       "<style scoped>\n",
       "    .dataframe tbody tr th:only-of-type {\n",
       "        vertical-align: middle;\n",
       "    }\n",
       "\n",
       "    .dataframe tbody tr th {\n",
       "        vertical-align: top;\n",
       "    }\n",
       "\n",
       "    .dataframe thead th {\n",
       "        text-align: right;\n",
       "    }\n",
       "</style>\n",
       "<table border=\"1\" class=\"dataframe\">\n",
       "  <thead>\n",
       "    <tr style=\"text-align: right;\">\n",
       "      <th></th>\n",
       "      <th></th>\n",
       "      <th>quantity</th>\n",
       "    </tr>\n",
       "    <tr>\n",
       "      <th>name</th>\n",
       "      <th>product_id</th>\n",
       "      <th></th>\n",
       "    </tr>\n",
       "  </thead>\n",
       "  <tbody>\n",
       "    <tr>\n",
       "      <th>Anton_Ivanov</th>\n",
       "      <th>15</th>\n",
       "      <td>2</td>\n",
       "    </tr>\n",
       "    <tr>\n",
       "      <th>Petr_Fedorov</th>\n",
       "      <th>94</th>\n",
       "      <td>2</td>\n",
       "    </tr>\n",
       "  </tbody>\n",
       "</table>\n",
       "</div>"
      ],
      "text/plain": [
       "                         quantity\n",
       "name         product_id          \n",
       "Anton_Ivanov 15                 2\n",
       "Petr_Fedorov 94                 2"
      ]
     },
     "execution_count": 11,
     "metadata": {},
     "output_type": "execute_result"
    }
   ],
   "source": [
    "# Отмеберм только тех клиентов, которые приобрели определенный продукт более 1 раза в разные дни\n",
    "df_without_duplicates \\\n",
    "    .groupby(['name', 'product_id']) \\\n",
    "    .agg({'quantity':'count'}) \\\n",
    "    .query('quantity > 1')"
   ]
  }
 ],
 "metadata": {
  "kernelspec": {
   "display_name": "Python 3 (ipykernel)",
   "language": "python",
   "name": "python3"
  },
  "language_info": {
   "codemirror_mode": {
    "name": "ipython",
    "version": 3
   },
   "file_extension": ".py",
   "mimetype": "text/x-python",
   "name": "python",
   "nbconvert_exporter": "python",
   "pygments_lexer": "ipython3",
   "version": "3.9.13"
  }
 },
 "nbformat": 4,
 "nbformat_minor": 5
}
